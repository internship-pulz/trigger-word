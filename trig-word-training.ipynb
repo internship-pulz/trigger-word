{
 "cells": [
  {
   "cell_type": "markdown",
   "metadata": {},
   "source": [
    "## Required Imports and Helper functions taken from the coursera project"
   ]
  },
  {
   "cell_type": "code",
   "execution_count": 1,
   "metadata": {},
   "outputs": [],
   "source": [
    "import os\n",
    "os.environ[\"CUDA_DEVICE_ORDER\"]=\"PCI_BUS_ID\"\n",
    "os.environ[\"CUDA_VISIBLE_DEVICES\"]=\"-1\""
   ]
  },
  {
   "cell_type": "code",
   "execution_count": 2,
   "metadata": {},
   "outputs": [
    {
     "name": "stderr",
     "output_type": "stream",
     "text": [
      "Using TensorFlow backend.\n"
     ]
    },
    {
     "name": "stdout",
     "output_type": "stream",
     "text": [
      "tensorflow\n"
     ]
    }
   ],
   "source": [
    "import keras\n",
    "print(keras.backend.backend())"
   ]
  },
  {
   "cell_type": "code",
   "execution_count": 3,
   "metadata": {},
   "outputs": [
    {
     "data": {
      "text/plain": [
       "False"
      ]
     },
     "execution_count": 3,
     "metadata": {},
     "output_type": "execute_result"
    }
   ],
   "source": [
    "import tensorflow as tf\n",
    "tf.test.is_gpu_available()"
   ]
  },
  {
   "cell_type": "code",
   "execution_count": 4,
   "metadata": {},
   "outputs": [
    {
     "name": "stdout",
     "output_type": "stream",
     "text": [
      "['/device:CPU:0']\n"
     ]
    }
   ],
   "source": [
    "\n",
    "from tensorflow.python.client import device_lib\n",
    "def get_available_devices():\n",
    "    local_devices_photo=device_lib.list_local_devices()\n",
    "    return [x.name for x in local_devices_photo]\n",
    "print (get_available_devices())"
   ]
  },
  {
   "cell_type": "code",
   "execution_count": 4,
   "metadata": {},
   "outputs": [
    {
     "name": "stderr",
     "output_type": "stream",
     "text": [
      "c:\\users\\buddhima\\appdata\\local\\programs\\python\\python37\\lib\\site-packages\\pydub\\utils.py:165: RuntimeWarning: Couldn't find ffmpeg or avconv - defaulting to ffmpeg, but may not work\n",
      "  warn(\"Couldn't find ffmpeg or avconv - defaulting to ffmpeg, but may not work\", RuntimeWarning)\n",
      "c:\\users\\buddhima\\appdata\\local\\programs\\python\\python37\\lib\\site-packages\\pydub\\utils.py:179: RuntimeWarning: Couldn't find ffplay or avplay - defaulting to ffplay, but may not work\n",
      "  warn(\"Couldn't find ffplay or avplay - defaulting to ffplay, but may not work\", RuntimeWarning)\n"
     ]
    }
   ],
   "source": [
    "import matplotlib.pyplot as plt\n",
    "from scipy.io import wavfile\n",
    "import os\n",
    "from pydub import AudioSegment\n",
    "import numpy as np\n",
    "import matplotlib.pyplot as plt\n",
    "from pydub.playback import play\n",
    "import librosa as lr\n",
    "\n",
    "# Calculate and plot spectrogram for a wav audio file\n",
    "\n",
    "# Load a wav file\n",
    "def get_wav_info(wav_file):\n",
    "    data, rate = lr.load(path=wav_file,sr=44100)\n",
    "    return rate, data\n",
    "\n",
    "# Used to standardize volume of audio clip\n",
    "def match_target_amplitude(sound, target_dBFS):\n",
    "    change_in_dBFS = target_dBFS - sound.dBFS\n",
    "    return sound.apply_gain(change_in_dBFS)\n",
    "\n",
    "# Load raw audio files for speech synthesis\n",
    "def graph_spectrogram(wav_file):\n",
    "    rate, data = get_wav_info(wav_file)\n",
    "    nfft =  200#of each window segment\n",
    "    fs = 8000 # Sampling frequencies\n",
    "    noverlap = 120 # Overlap between windows\n",
    "    nchannels = data.ndim\n",
    "    if nchannels == 1:\n",
    "        pxx, freqs, bins,im= plt.specgram(data, nfft, fs, noverlap = noverlap)\n",
    "    elif nchannels == 2:\n",
    "        pxx, freqs, bins,im = plt.specgram(data[:,0], nfft, fs, noverlap = noverlap)\n",
    "    return pxx,freqs,bins\n",
    "\n",
    "def load_raw_audio():\n",
    "    positives = []\n",
    "    backgrounds = []\n",
    "    negatives = []\n",
    "    for filename in os.listdir(\"positives\"):\n",
    "        if filename.endswith(\"wav\"):\n",
    "            positive = AudioSegment.from_wav(\"positives/\"+filename)\n",
    "            positives.append(positive)\n",
    "    for filename in os.listdir(\"backgrounds\"):\n",
    "        if filename.endswith(\"wav\"):\n",
    "            background = AudioSegment.from_wav(\"backgrounds/\"+filename)\n",
    "            backgrounds.append(background)\n",
    "    for filename in os.listdir(\"negatives\"):\n",
    "        if filename.endswith(\"wav\"):\n",
    "            negative = AudioSegment.from_wav(\"negatives/\"+filename)\n",
    "            negatives.append(negative)\n",
    "    return positives,negatives, backgrounds"
   ]
  },
  {
   "cell_type": "code",
   "execution_count": 5,
   "metadata": {
    "scrolled": true
   },
   "outputs": [],
   "source": [
    "import IPython.display as ipd\n",
    "#ipd.Audio(\"positives/1.wav\")\n",
    "#ipd.Audio(\"negatives/1.wav\")\n",
    "#ipd.Audio(\"backgrounds_before_processing/white_noise.wav\")"
   ]
  },
  {
   "cell_type": "markdown",
   "metadata": {},
   "source": [
    "### Converting the background noises to 10s clips"
   ]
  },
  {
   "cell_type": "code",
   "execution_count": 6,
   "metadata": {},
   "outputs": [],
   "source": [
    "ac_noise=AudioSegment.from_wav(\"backgrounds_before_processing/ac_noise.wav\")"
   ]
  },
  {
   "cell_type": "code",
   "execution_count": 7,
   "metadata": {},
   "outputs": [],
   "source": [
    "time=10*1000\n",
    "ac_noise_clipped=ac_noise[:time]"
   ]
  },
  {
   "cell_type": "code",
   "execution_count": 8,
   "metadata": {},
   "outputs": [
    {
     "data": {
      "text/plain": [
       "<_io.BufferedRandom name='backgrounds/ac_noise_clipped.wav'>"
      ]
     },
     "execution_count": 8,
     "metadata": {},
     "output_type": "execute_result"
    }
   ],
   "source": [
    "ac_noise_clipped.export(\"backgrounds/ac_noise_clipped.wav\",format=\"wav\")"
   ]
  },
  {
   "cell_type": "code",
   "execution_count": 9,
   "metadata": {},
   "outputs": [],
   "source": [
    "pink_noise=AudioSegment.from_wav(\"backgrounds_before_processing/pink_noise.wav\")"
   ]
  },
  {
   "cell_type": "code",
   "execution_count": 10,
   "metadata": {},
   "outputs": [],
   "source": [
    "pink_noise_clipped=pink_noise[:time]"
   ]
  },
  {
   "cell_type": "code",
   "execution_count": 11,
   "metadata": {},
   "outputs": [
    {
     "data": {
      "text/plain": [
       "<_io.BufferedRandom name='backgrounds/pink_noise_clipped.wav'>"
      ]
     },
     "execution_count": 11,
     "metadata": {},
     "output_type": "execute_result"
    }
   ],
   "source": [
    "pink_noise_clipped.export(\"backgrounds/pink_noise_clipped.wav\",format=\"wav\")"
   ]
  },
  {
   "cell_type": "code",
   "execution_count": 12,
   "metadata": {},
   "outputs": [],
   "source": [
    "white_noise=AudioSegment.from_wav(\"backgrounds_before_processing/white_noise.wav\")"
   ]
  },
  {
   "cell_type": "code",
   "execution_count": 13,
   "metadata": {},
   "outputs": [],
   "source": [
    "white_noise_clipped=white_noise[:time]"
   ]
  },
  {
   "cell_type": "code",
   "execution_count": 14,
   "metadata": {},
   "outputs": [
    {
     "data": {
      "text/plain": [
       "<_io.BufferedRandom name='backgrounds_before_processing/white_noise_clipped.wav'>"
      ]
     },
     "execution_count": 14,
     "metadata": {},
     "output_type": "execute_result"
    }
   ],
   "source": [
    "white_noise_clipped.export(\"backgrounds_before_processing/white_noise_clipped.wav\",format=\"wav\")"
   ]
  },
  {
   "cell_type": "code",
   "execution_count": 15,
   "metadata": {},
   "outputs": [],
   "source": [
    "doing_the_dishes_noise=AudioSegment.from_wav(\"backgrounds_before_processing/doing_the_dishes_noise.wav\")"
   ]
  },
  {
   "cell_type": "code",
   "execution_count": 16,
   "metadata": {},
   "outputs": [],
   "source": [
    "doing_the_dishes_noise_clipped=doing_the_dishes_noise[:time]"
   ]
  },
  {
   "cell_type": "code",
   "execution_count": 17,
   "metadata": {},
   "outputs": [
    {
     "data": {
      "text/plain": [
       "<_io.BufferedRandom name='backgrounds/doing_the_dishes_noise_clipped.wav'>"
      ]
     },
     "execution_count": 17,
     "metadata": {},
     "output_type": "execute_result"
    }
   ],
   "source": [
    "doing_the_dishes_noise_clipped.export(\"backgrounds/doing_the_dishes_noise_clipped.wav\",format=\"wav\")"
   ]
  },
  {
   "cell_type": "markdown",
   "metadata": {},
   "source": [
    "# The original sampling rates for the noises are:\n",
    "ac_noise=> 48000\n",
    "doing_the_dishes_noise=>16000\n",
    "pink_noise=>16000\n",
    "white_noise=>16000"
   ]
  },
  {
   "cell_type": "code",
   "execution_count": 18,
   "metadata": {},
   "outputs": [],
   "source": [
    "rate,audio=get_wav_info(\"backgrounds_before_processing/white_noise.wav\")"
   ]
  },
  {
   "cell_type": "code",
   "execution_count": 19,
   "metadata": {},
   "outputs": [
    {
     "data": {
      "text/plain": [
       "(44100, (2646000,))"
      ]
     },
     "execution_count": 19,
     "metadata": {},
     "output_type": "execute_result"
    }
   ],
   "source": [
    "rate,audio.shape"
   ]
  },
  {
   "cell_type": "markdown",
   "metadata": {},
   "source": [
    "there is a small confusion! the audio part of the ac_noise read using wavfile.read from scipy gives a two dimensional array but if its read using librosa that problem is done, still the no of samples in the ac_noise and ac_noise_clipped is different"
   ]
  },
  {
   "cell_type": "code",
   "execution_count": 20,
   "metadata": {},
   "outputs": [],
   "source": [
    "rate,audio=get_wav_info(\"backgrounds_before_processing/ac_noise.wav\")"
   ]
  },
  {
   "cell_type": "code",
   "execution_count": 21,
   "metadata": {},
   "outputs": [
    {
     "data": {
      "text/plain": [
       "((572948,), 44100)"
      ]
     },
     "execution_count": 21,
     "metadata": {},
     "output_type": "execute_result"
    }
   ],
   "source": [
    "audio.shape,rate"
   ]
  },
  {
   "cell_type": "markdown",
   "metadata": {},
   "source": [
    "###          \n",
    "\n",
    "\n",
    "\n",
    "\n",
    "\n"
   ]
  },
  {
   "cell_type": "markdown",
   "metadata": {},
   "source": [
    "### Checking if the clipping is proper and analysing various rates and audio files"
   ]
  },
  {
   "cell_type": "code",
   "execution_count": 22,
   "metadata": {},
   "outputs": [],
   "source": [
    "rate1,audio1=get_wav_info(\"negatives/1.wav\")"
   ]
  },
  {
   "cell_type": "code",
   "execution_count": 23,
   "metadata": {},
   "outputs": [
    {
     "name": "stdout",
     "output_type": "stream",
     "text": [
      "44100 (44100,)\n"
     ]
    }
   ],
   "source": [
    "print(rate1,audio1.shape)"
   ]
  },
  {
   "cell_type": "markdown",
   "metadata": {},
   "source": [
    "## Now all the audio files are ready to be used, you can get the rate and the audio array by just calling the function get_wav_info"
   ]
  },
  {
   "cell_type": "code",
   "execution_count": 24,
   "metadata": {},
   "outputs": [],
   "source": [
    "rate3,audio3=get_wav_info(\"positives/2.wav\")"
   ]
  },
  {
   "cell_type": "code",
   "execution_count": 25,
   "metadata": {},
   "outputs": [
    {
     "name": "stdout",
     "output_type": "stream",
     "text": [
      "44100 (20479,)\n"
     ]
    }
   ],
   "source": [
    "print(rate3,audio3.shape)"
   ]
  },
  {
   "cell_type": "code",
   "execution_count": 26,
   "metadata": {},
   "outputs": [
    {
     "name": "stdout",
     "output_type": "stream",
     "text": [
      "(101, 254)\n",
      "(101,)\n",
      "(254,)\n"
     ]
    },
    {
     "data": {
      "image/png": "[encoded data removed]",
      "text/plain": [
       "<Figure size 432x288 with 1 Axes>"
      ]
     },
     "metadata": {
      "needs_background": "light"
     },
     "output_type": "display_data"
    }
   ],
   "source": [
    "f,g,h=graph_spectrogram(\"positives/2.wav\")\n",
    "print(f.shape)\n",
    "print(g.shape)\n",
    "print(h.shape)\n"
   ]
  },
  {
   "cell_type": "markdown",
   "metadata": {},
   "source": [
    "# Starting to build the training dataset"
   ]
  },
  {
   "cell_type": "code",
   "execution_count": 27,
   "metadata": {},
   "outputs": [],
   "source": [
    "#activates, negatives, backgrounds \n",
    "positives,negatives,backgrounds= load_raw_audio()"
   ]
  },
  {
   "cell_type": "code",
   "execution_count": 28,
   "metadata": {},
   "outputs": [],
   "source": [
    "#for audio in negatives:\n",
    "   # play(audio)"
   ]
  },
  {
   "cell_type": "code",
   "execution_count": 29,
   "metadata": {},
   "outputs": [
    {
     "name": "stdout",
     "output_type": "stream",
     "text": [
      "background_len: 10000\n",
      "activates_len: 464\n",
      "negative_len: 811\n"
     ]
    }
   ],
   "source": [
    "print(\"background_len:\",len(backgrounds[3]))\n",
    "print(\"activates_len:\",len(positives[11]))\n",
    "print(\"negative_len:\",len(negatives[2]))"
   ]
  },
  {
   "cell_type": "markdown",
   "metadata": {},
   "source": [
    "# Helper functions needed to prepare the dataset\n",
    "1. get_random_time_segment(segment_ms) gets a random time segment in our background audio\n",
    "2. is_overlapping(segment_time, existing_segments) checks if a time segment overlaps with existing segments\n",
    "3. insert_audio_clip(background, audio_clip, existing_times) inserts an audio segment at a random time in our background audio 4. using get_random_time_segment and is_overlapping\n",
    "5. insert_ones(y, segment_end_ms) inserts 1's into our label vector y after the word \"activate\""
   ]
  },
  {
   "cell_type": "code",
   "execution_count": 30,
   "metadata": {},
   "outputs": [],
   "source": [
    "def get_random_time_segment(segment_ms):\n",
    "    \"\"\"\n",
    "    Gets a random time segment of duration segment_ms in a 10,000 ms audio clip.\n",
    "    \n",
    "    Arguments:\n",
    "    segment_ms -- the duration of the audio clip in ms (\"ms\" stands for \"milliseconds\")\n",
    "    \n",
    "    Returns:\n",
    "    segment_time -- a tuple of (segment_start, segment_end) in ms\n",
    "    \"\"\"\n",
    "    \n",
    "    segment_start = np.random.randint(low=0, high=10000-segment_ms)   # Make sure segment doesn't run past the 10sec background \n",
    "    segment_end = segment_start + segment_ms - 1\n",
    "    \n",
    "    return (segment_start, segment_end)"
   ]
  },
  {
   "cell_type": "code",
   "execution_count": 31,
   "metadata": {},
   "outputs": [],
   "source": [
    "def is_overlapping(segment_time, previous_segments):\n",
    "    \"\"\"\n",
    "    Checks if the time of a segment overlaps with the times of existing segments.\n",
    "    \n",
    "    Arguments:\n",
    "    segment_time -- a tuple of (segment_start, segment_end) for the new segment\n",
    "    previous_segments -- a list of tuples of (segment_start, segment_end) for the existing segments\n",
    "    \n",
    "    Returns:\n",
    "    True if the time segment overlaps with any of the existing segments, False otherwise\n",
    "    \"\"\"\n",
    "    \n",
    "    segment_start, segment_end = segment_time\n",
    "    \n",
    "    ### START CODE HERE ### (≈ 4 line)\n",
    "    # Step 1: Initialize overlap as a \"False\" flag. (≈ 1 line)\n",
    "    overlap = False\n",
    "    \n",
    "    # Step 2: loop over the previous_segments start and end times.\n",
    "    # Compare start/end times and set the flag to True if there is an overlap (≈ 3 lines)\n",
    "    for previous_start, previous_end in previous_segments:\n",
    "        if segment_start <= previous_end and segment_end >= previous_start:\n",
    "            overlap = True\n",
    "    ### END CODE HERE ###\n",
    "\n",
    "    return overlap"
   ]
  },
  {
   "cell_type": "code",
   "execution_count": 32,
   "metadata": {},
   "outputs": [],
   "source": [
    "def insert_audio_clip(background, audio_clip, previous_segments):\n",
    "    \"\"\"\n",
    "    Insert a new audio segment over the background noise at a random time step, ensuring that the \n",
    "    audio segment does not overlap with existing segments.\n",
    "    \n",
    "    Arguments:\n",
    "    background -- a 10 second background audio recording.  \n",
    "    audio_clip -- the audio clip to be inserted/overlaid. \n",
    "    previous_segments -- times where audio segments have already been placed\n",
    "    \n",
    "    Returns:\n",
    "    new_background -- the updated background audio\n",
    "    \"\"\"\n",
    "    \n",
    "    # Get the duration of the audio clip in ms\n",
    "    segment_ms = len(audio_clip)\n",
    "    \n",
    "    ### START CODE HERE ### \n",
    "    # Step 1: Use one of the helper functions to pick a random time segment onto which to insert \n",
    "    # the new audio clip. (≈ 1 line)\n",
    "    segment_time = get_random_time_segment(segment_ms)\n",
    "    \n",
    "    # Step 2: Check if the new segment_time overlaps with one of the previous_segments. If so, keep \n",
    "    # picking new segment_time at random until it doesn't overlap. (≈ 2 lines)\n",
    "    while is_overlapping(segment_time, previous_segments):\n",
    "        segment_time = get_random_time_segment(segment_ms)\n",
    "\n",
    "    # Step 3: Add the new segment_time to the list of previous_segments (≈ 1 line)\n",
    "    previous_segments.append(segment_time)\n",
    "    ### END CODE HERE ###\n",
    "    \n",
    "    # Step 4: Superpose audio segment and background\n",
    "    new_background = background.overlay(audio_clip, position = segment_time[0])\n",
    "    \n",
    "    return new_background, segment_time"
   ]
  },
  {
   "cell_type": "code",
   "execution_count": 33,
   "metadata": {},
   "outputs": [
    {
     "name": "stdout",
     "output_type": "stream",
     "text": [
      "Segment Time:  (7998, 8328)\n"
     ]
    }
   ],
   "source": [
    "\n",
    "audio_clip, segment_time = insert_audio_clip(backgrounds[0], positives[16], [(3790, 4400)])\n",
    "\n",
    "print(\"Segment Time: \", segment_time)\n",
    "#play(audio_clip)"
   ]
  },
  {
   "cell_type": "code",
   "execution_count": 34,
   "metadata": {},
   "outputs": [],
   "source": [
    "Ty=1375\n",
    "def insert_ones(y, segment_end_ms):\n",
    "    \"\"\"\n",
    "    Update the label vector y. The labels of the 50 output steps strictly after the end of the segment \n",
    "    should be set to 1. By strictly we mean that the label of segment_end_y should be 0 while, the\n",
    "    50 followinf labels should be ones.\n",
    "    \n",
    "    \n",
    "    Arguments:\n",
    "    y -- numpy array of shape (1, Ty), the labels of the training example\n",
    "    segment_end_ms -- the end time of the segment in ms\n",
    "    \n",
    "    Returns:\n",
    "    y -- updated labels\n",
    "    \"\"\"\n",
    "    \n",
    "    # duration of the background (in terms of spectrogram time-steps)\n",
    "    segment_end_y = int(segment_end_ms * Ty / 10000.0)\n",
    "    \n",
    "    # Add 1 to the correct index in the background label (y)\n",
    "    ### START CODE HERE ### (≈ 3 lines)\n",
    "    for i in range(segment_end_y + 1, segment_end_y + 51):\n",
    "        if i < Ty:\n",
    "            y[0, i] = 1\n",
    "    ### END CODE HERE ###\n",
    "    \n",
    "    return y\n"
   ]
  },
  {
   "cell_type": "code",
   "execution_count": 35,
   "metadata": {},
   "outputs": [],
   "source": [
    "def create_training_example(background, positives, negatives):\n",
    "    \"\"\"\n",
    "    Creates a training example with a given background, activates, and negatives.\n",
    "    \n",
    "    Arguments:\n",
    "    background -- a 10 second background audio recording\n",
    "    activates -- a list of audio segments of the word \"activate\"\n",
    "    negatives -- a list of audio segments of random words that are not \"activate\"\n",
    "    \n",
    "    Returns:\n",
    "    x -- the spectrogram of the training example\n",
    "    y -- the label at each time step of the spectrogram\n",
    "    \"\"\"\n",
    "    \n",
    "    # Set the random seed\n",
    "    #np.random.seed(18)\n",
    "    Ty=1375\n",
    "    # Make background quieter\n",
    "    background = background - 40\n",
    "    ### START CODE HERE ###\n",
    "    # Step 1: Initialize y (label vector) of zeros (≈ 1 line)\n",
    "    y = np.zeros((1, Ty))\n",
    "\n",
    "    # Step 2: Initialize segment times as empty list (≈ 1 line)\n",
    "    previous_segments = []\n",
    "    ### END CODE HERE ###\n",
    "    \n",
    "    # Select 0-4 random \"activate\" audio clips from the entire list of \"activates\" recordings\n",
    "    number_of_positives = np.random.randint(0, 4)\n",
    "    random_indices = np.random.randint(len(positives), size=number_of_positives)\n",
    "    random_positives = [positives[i] for i in random_indices]\n",
    "    \n",
    "    ### START CODE HERE ### (≈ 3 lines)\n",
    "    # Step 3: Loop over randomly selected \"activate\" clips and insert in background\n",
    "    for random_positive in random_positives:\n",
    "        # Insert the audio clip on the background\n",
    "        background, segment_time = insert_audio_clip(background, random_positive, previous_segments)\n",
    "        # Retrieve segment_start and segment_end from segment_time\n",
    "        segment_start, segment_end = segment_time\n",
    "        # Insert labels in \"y\"\n",
    "        y = insert_ones(y, segment_end_ms=segment_end)\n",
    "    ### END CODE HERE ###\n",
    "\n",
    "    # Select 0-2 random negatives audio recordings from the entire list of \"negatives\" recordings\n",
    "    number_of_negatives = np.random.randint(0, 4)\n",
    "    random_indices = np.random.randint(len(negatives), size=number_of_negatives)\n",
    "    random_negatives = [negatives[i] for i in random_indices]\n",
    "    \n",
    "    ### START CODE HERE ### (≈ 2 lines)\n",
    "    # Step 4: Loop over randomly selected negative clips and insert in background\n",
    "    for random_negative in random_negatives:\n",
    "        # Insert the audio clip on the background \n",
    "        background, _ = insert_audio_clip(background, random_negative, previous_segments)\n",
    "        \n",
    "    ### END CODE HERE ###\n",
    "    \n",
    "    # Standardize the volume of the audio clip \n",
    "    background = match_target_amplitude(background, -20.0)\n",
    "\n",
    "    # Export new training example \n",
    "    file_handle = background.export(\"train\" + \".wav\", format=\"wav\")\n",
    "   # print(\"File (train.wav) was saved in your directory.\")\n",
    "    \n",
    "    # Get and plot spectrogram of the new recording (background with superposition of positive and negatives)\n",
    "    x,freqs,bins = graph_spectrogram(\"train.wav\")\n",
    "    \n",
    "    return x,y,background"
   ]
  },
  {
   "cell_type": "markdown",
   "metadata": {},
   "source": [
    "# Let *Tx* be the no of timesteps fed to model from the spectrogram and *Ty* be the no of timesteps in the output given by the model to be built\n",
    "Tx=5511\n",
    "Ty=1375"
   ]
  },
  {
   "cell_type": "code",
   "execution_count": 36,
   "metadata": {},
   "outputs": [],
   "source": [
    "#play(backgrounds[0])"
   ]
  },
  {
   "cell_type": "code",
   "execution_count": 37,
   "metadata": {},
   "outputs": [
    {
     "name": "stderr",
     "output_type": "stream",
     "text": [
      "c:\\users\\buddhima\\appdata\\local\\programs\\python\\python37\\lib\\site-packages\\matplotlib\\axes\\_axes.py:7725: RuntimeWarning: divide by zero encountered in log10\n",
      "  Z = 10. * np.log10(spec)\n"
     ]
    },
    {
     "name": "stdout",
     "output_type": "stream",
     "text": [
      "(1, 1375)\n"
     ]
    },
    {
     "data": {
      "image/png": "[encoded data removed]",
      "text/plain": [
       "<Figure size 432x288 with 1 Axes>"
      ]
     },
     "metadata": {
      "needs_background": "light"
     },
     "output_type": "display_data"
    }
   ],
   "source": [
    "x2,y2,back=create_training_example(backgrounds[0], positives, negatives)\n",
    "np.transpose(x2).shape\n",
    "play(back)\n",
    "print(y2.shape)"
   ]
  },
  {
   "cell_type": "code",
   "execution_count": 38,
   "metadata": {},
   "outputs": [],
   "source": [
    "np.set_printoptions(threshold=np.inf)"
   ]
  },
  {
   "cell_type": "code",
   "execution_count": 39,
   "metadata": {},
   "outputs": [],
   "source": [
    "\n",
    "#print(y2[0][610:])\n",
    "#play(z2)\n",
    "#print(p2)"
   ]
  },
  {
   "cell_type": "markdown",
   "metadata": {},
   "source": [
    "# the task here onwards is to verify that the labels are correct and then we can start building the model."
   ]
  },
  {
   "cell_type": "markdown",
   "metadata": {},
   "source": [
    "# all the labels are correct, now lets build a dataset"
   ]
  },
  {
   "cell_type": "code",
   "execution_count": 40,
   "metadata": {
    "scrolled": false
   },
   "outputs": [],
   "source": [
    "#x_train=[]\n",
    "#y_train=[]\n",
    "#audio_sample=[]\n",
    "#for i in range(1500):\n",
    "#    x,y,z=create_training_example(backgrounds[0], positives, negatives)\n",
    "#    x_train.append(np.transpose(x))\n",
    "#    y_train.append(np.transpose(y))\n",
    "#    if(i%10==0):\n",
    "#        print(i)\n",
    "#    audio_sample.append(z)\n",
    "#np.save(\"x_train.npy\",x_train)\n",
    "#np.save(\"y_train.npy\",y_train)\n",
    "#np.save(\"audio_sample\",audio_sample)"
   ]
  },
  {
   "cell_type": "code",
   "execution_count": 41,
   "metadata": {},
   "outputs": [],
   "source": [
    "#play(audio_sample[1])\n"
   ]
  },
  {
   "cell_type": "code",
   "execution_count": 42,
   "metadata": {},
   "outputs": [],
   "source": [
    "#for i in range(10):\n",
    "#    audio_sample[i].export(\"sample\"+str(i)+\".wav\",format=\"wav\")"
   ]
  },
  {
   "cell_type": "code",
   "execution_count": 43,
   "metadata": {},
   "outputs": [],
   "source": [
    "#rate,audio=get_wav_info(\"op.wav\")\n",
    "#print(rate)"
   ]
  },
  {
   "cell_type": "code",
   "execution_count": 44,
   "metadata": {},
   "outputs": [],
   "source": [
    "#play(audio_training[98])"
   ]
  },
  {
   "cell_type": "code",
   "execution_count": 45,
   "metadata": {},
   "outputs": [],
   "source": [
    "x_train=np.load(\"x_sample.npy\")\n",
    "y_train=np.load(\"y_sample.npy\")"
   ]
  },
  {
   "cell_type": "code",
   "execution_count": 46,
   "metadata": {},
   "outputs": [
    {
     "name": "stdout",
     "output_type": "stream",
     "text": [
      "(5511, 101)\n",
      "(1375, 1)\n"
     ]
    }
   ],
   "source": [
    "print(x_train[0].shape)\n",
    "print(y_train[0].shape)\n"
   ]
  },
  {
   "cell_type": "code",
   "execution_count": 47,
   "metadata": {},
   "outputs": [
    {
     "name": "stdout",
     "output_type": "stream",
     "text": [
      "2.2.4\n"
     ]
    }
   ],
   "source": [
    "import keras\n",
    "print(keras.__version__)"
   ]
  },
  {
   "cell_type": "code",
   "execution_count": 48,
   "metadata": {},
   "outputs": [
    {
     "name": "stderr",
     "output_type": "stream",
     "text": [
      "WARNING: Logging before flag parsing goes to stderr.\n",
      "W0905 14:07:19.579767 10164 deprecation_wrapper.py:119] From c:\\users\\buddhima\\appdata\\local\\programs\\python\\python37\\lib\\site-packages\\keras\\backend\\tensorflow_backend.py:174: The name tf.get_default_session is deprecated. Please use tf.compat.v1.get_default_session instead.\n",
      "\n",
      "W0905 14:07:19.581768 10164 deprecation_wrapper.py:119] From c:\\users\\buddhima\\appdata\\local\\programs\\python\\python37\\lib\\site-packages\\keras\\backend\\tensorflow_backend.py:181: The name tf.ConfigProto is deprecated. Please use tf.compat.v1.ConfigProto instead.\n",
      "\n",
      "W0905 14:07:19.582768 10164 deprecation_wrapper.py:119] From c:\\users\\buddhima\\appdata\\local\\programs\\python\\python37\\lib\\site-packages\\keras\\backend\\tensorflow_backend.py:186: The name tf.Session is deprecated. Please use tf.compat.v1.Session instead.\n",
      "\n",
      "W0905 14:07:19.700970 10164 deprecation_wrapper.py:119] From c:\\users\\buddhima\\appdata\\local\\programs\\python\\python37\\lib\\site-packages\\keras\\backend\\tensorflow_backend.py:190: The name tf.global_variables is deprecated. Please use tf.compat.v1.global_variables instead.\n",
      "\n"
     ]
    },
    {
     "data": {
      "text/plain": [
       "[]"
      ]
     },
     "execution_count": 48,
     "metadata": {},
     "output_type": "execute_result"
    }
   ],
   "source": [
    "from keras import backend as k\n",
    "k.tensorflow_backend._get_available_gpus()"
   ]
  },
  {
   "cell_type": "code",
   "execution_count": 49,
   "metadata": {},
   "outputs": [],
   "source": [
    "#import keras\n",
    "#config = tf.ConfigProto( device_count = {'GPU': 1 , 'CPU': 56} ) \n",
    "#sess = tf.Session(config=config) \n",
    "#keras.backend.set_session(sess)"
   ]
  },
  {
   "cell_type": "code",
   "execution_count": null,
   "metadata": {},
   "outputs": [],
   "source": [
    "\n"
   ]
  },
  {
   "cell_type": "markdown",
   "metadata": {},
   "source": [
    "# model building"
   ]
  },
  {
   "cell_type": "code",
   "execution_count": 107,
   "metadata": {},
   "outputs": [],
   "source": [
    "from keras.callbacks import ModelCheckpoint\n",
    "from keras.models import Model,load_model,Sequential\n",
    "from keras.layers import Dense,Activation,Dropout,Input,Masking,TimeDistributed,LSTM,Conv1D\n",
    "from keras.layers import GRU,Bidirectional,BatchNormalization,Reshape\n",
    "from keras.optimizers import Adam\n",
    "def model(input_shape):\n",
    "    X_input=Input(shape=input_shape)\n",
    "    X=Conv1D(196,kernel_size=15,strides=4)(X_input)\n",
    "   # X = BatchNormalization()(X)      \n",
    "    X = Activation('relu')(X) \n",
    "   # X = Dropout(0.8)(X)  \n",
    "    # Step 2: First GRU Layer (≈4 lines)\n",
    "    X = GRU(units = 128, return_sequences = True)(X) # GRU (use 128 units and return the sequences)\n",
    "    X = Dropout(0.8)(X)                                 # dropout (use 0.8)\n",
    "   # X = BatchNormalization()(X)     # Batch normalization\n",
    "    # Step 3: Second GRU Layer (≈4 lines)\n",
    "    #X = GRU(units = 128, return_sequences = True)(X)   # GRU (use 128 units and return the sequences)\n",
    "    #X = Dropout(0.8)(X)                                 # dropout (use 0.8)\n",
    "    #X = BatchNormalization()(X)                                  # Batch normalization\n",
    "    #X = Dropout(0.8)(X)                                  # dropout (use 0.8)\n",
    "   \n",
    "    # Step 4: Time-distributed dense layer (≈1 line)\n",
    "    X = TimeDistributed(Dense(1, activation = \"sigmoid\"))(X) # time distributed  (sigmoid)\n",
    "    model = Model(inputs = X_input, outputs = X)\n",
    "    return model"
   ]
  },
  {
   "cell_type": "code",
   "execution_count": 108,
   "metadata": {},
   "outputs": [
    {
     "name": "stdout",
     "output_type": "stream",
     "text": [
      "_________________________________________________________________\n",
      "Layer (type)                 Output Shape              Param #   \n",
      "=================================================================\n",
      "input_2 (InputLayer)         (None, 5511, 101)         0         \n",
      "_________________________________________________________________\n",
      "conv1d_2 (Conv1D)            (None, 1375, 196)         297136    \n",
      "_________________________________________________________________\n",
      "activation_2 (Activation)    (None, 1375, 196)         0         \n",
      "_________________________________________________________________\n",
      "gru_3 (GRU)                  (None, 1375, 128)         124800    \n",
      "_________________________________________________________________\n",
      "dropout_5 (Dropout)          (None, 1375, 128)         0         \n",
      "_________________________________________________________________\n",
      "time_distributed_2 (TimeDist (None, 1375, 1)           129       \n",
      "=================================================================\n",
      "Total params: 422,065\n",
      "Trainable params: 422,065\n",
      "Non-trainable params: 0\n",
      "_________________________________________________________________\n"
     ]
    }
   ],
   "source": [
    "model = model(input_shape = (5511, 101))\n",
    "model.summary()"
   ]
  },
  {
   "cell_type": "code",
   "execution_count": 109,
   "metadata": {},
   "outputs": [],
   "source": [
    "from sklearn.metrics import f1_score"
   ]
  },
  {
   "cell_type": "code",
   "execution_count": 110,
   "metadata": {},
   "outputs": [],
   "source": [
    "model3=load_model(\"weights_best.hdf5\")"
   ]
  },
  {
   "cell_type": "code",
   "execution_count": 111,
   "metadata": {
    "scrolled": true
   },
   "outputs": [
    {
     "name": "stdout",
     "output_type": "stream",
     "text": [
      "(4, 1375, 1)\n",
      "(4, 1375, 1)\n",
      "4\n",
      "0.0\n"
     ]
    },
    {
     "name": "stderr",
     "output_type": "stream",
     "text": [
      "c:\\users\\buddhima\\appdata\\local\\programs\\python\\python37\\lib\\site-packages\\sklearn\\metrics\\classification.py:1437: UndefinedMetricWarning: F-score is ill-defined and being set to 0.0 due to no predicted samples.\n",
      "  'precision', 'predicted', average, warn_for)\n",
      "c:\\users\\buddhima\\appdata\\local\\programs\\python\\python37\\lib\\site-packages\\sklearn\\metrics\\classification.py:1439: UndefinedMetricWarning: F-score is ill-defined and being set to 0.0 due to no true samples.\n",
      "  'recall', 'true', average, warn_for)\n"
     ]
    }
   ],
   "source": [
    "pred=model3.predict(x_testing).round()\n",
    "print(pred.shape)\n",
    "print(y_testing.shape)\n",
    "sum=0\n",
    "print(len(y_testing))\n",
    "for i in range(4):\n",
    "    score=f1_score(y_testing[i],pred[i])\n",
    "    sum+=score\n",
    "print(sum/4)"
   ]
  },
  {
   "cell_type": "code",
   "execution_count": 112,
   "metadata": {},
   "outputs": [],
   "source": [
    "class Metrics(keras.callbacks.Callback):\n",
    "    def on_train_begin(self,logs={}):\n",
    "        self.score_1=0\n",
    "        \n",
    "    def on_epoch_end(self,epoch,logs={}):\n",
    "            validation_data_x=self.validation_data[0]\n",
    "            y_true=self.validation_data[1]\n",
    "            y_pred=self.model.predict(validation_data_x).round()\n",
    "            sum=0\n",
    "            for i in range(len(y_true)):\n",
    "                sum+=f1_score(y_true[i],y_pred[i])\n",
    "            sum=sum/len(y_true)\n",
    "            self.score_2=sum\n",
    "            if self.score_2>self.score_1:\n",
    "                self.score_1=self.score_2\n",
    "                print(\"score_2\",self.score_2)\n",
    "                model.save(\"the_best.hdf5\")\n",
    "            return"
   ]
  },
  {
   "cell_type": "code",
   "execution_count": 113,
   "metadata": {},
   "outputs": [],
   "source": [
    "opt = Adam(lr=0.0001, beta_1=0.9, beta_2=0.999, decay=0.01)\n",
    "model.compile(loss='binary_crossentropy', optimizer=opt, metrics=[\"accuracy\"])\n",
    "#adding checkpoint\n",
    "filepath=\"weights_best.hdf5\"\n",
    "#checkpoint=ModelCheckpoint(filepath,monitor=\"val_acc\",save_best_only=True,mode=\"auto\",verbose=1)\n",
    "#callbacks_list=[checkpoint]\n",
    "callbacks_list=[Metrics()]"
   ]
  },
  {
   "cell_type": "code",
   "execution_count": 114,
   "metadata": {},
   "outputs": [],
   "source": [
    "from sklearn.model_selection import train_test_split\n",
    "x_training,x_testing,y_training,y_testing=train_test_split(x_train,y_train,test_size=0.33,random_state=42)\n",
    "np.save(\"x_testing\",x_testing)\n",
    "np.save(\"y_testing\",y_testing)\n",
    "x_testing=np.load(\"x_testing.npy\")\n",
    "y_testing=np.load(\"y_testing.npy\")\n"
   ]
  },
  {
   "cell_type": "code",
   "execution_count": 115,
   "metadata": {},
   "outputs": [
    {
     "name": "stdout",
     "output_type": "stream",
     "text": [
      "1567684300.4822433\n",
      "Train on 6 samples, validate on 4 samples\n",
      "Epoch 1/5\n",
      "6/6 [==============================] - 11s 2s/step - loss: 0.6930 - acc: 0.8537 - val_loss: 0.6909 - val_acc: 0.9727\n"
     ]
    },
    {
     "name": "stderr",
     "output_type": "stream",
     "text": [
      "c:\\users\\buddhima\\appdata\\local\\programs\\python\\python37\\lib\\site-packages\\sklearn\\metrics\\classification.py:1437: UndefinedMetricWarning: F-score is ill-defined and being set to 0.0 due to no predicted samples.\n",
      "  'precision', 'predicted', average, warn_for)\n",
      "c:\\users\\buddhima\\appdata\\local\\programs\\python\\python37\\lib\\site-packages\\sklearn\\metrics\\classification.py:1439: UndefinedMetricWarning: F-score is ill-defined and being set to 0.0 due to no true samples.\n",
      "  'recall', 'true', average, warn_for)\n"
     ]
    },
    {
     "name": "stdout",
     "output_type": "stream",
     "text": [
      "Epoch 2/5\n",
      "6/6 [==============================] - 7s 1s/step - loss: 0.6908 - acc: 0.9636 - val_loss: 0.6887 - val_acc: 0.9727\n",
      "Epoch 3/5\n",
      "6/6 [==============================] - 6s 1s/step - loss: 0.6886 - acc: 0.9636 - val_loss: 0.6863 - val_acc: 0.9727\n",
      "Epoch 4/5\n",
      "6/6 [==============================] - 7s 1s/step - loss: 0.6863 - acc: 0.9636 - val_loss: 0.6840 - val_acc: 0.9727\n",
      "Epoch 5/5\n",
      "6/6 [==============================] - 6s 1s/step - loss: 0.6839 - acc: 0.9636 - val_loss: 0.6815 - val_acc: 0.9727\n",
      "45.23756980895996\n"
     ]
    }
   ],
   "source": [
    "import time\n",
    "start=time.time()\n",
    "print(start)\n",
    "model.fit(x_training, y_training, batch_size = 5, epochs=5,verbose=1,callbacks=callbacks_list,validation_data=(x_testing,y_testing))\n",
    "end=time.time()\n",
    "print(end-start)"
   ]
  },
  {
   "cell_type": "code",
   "execution_count": 67,
   "metadata": {},
   "outputs": [],
   "source": [
    "#484.4966344833374--gpu 0\n",
    "#170.46423602104187--cp -1\n",
    "#502          --normal\n",
    "#493            --gpu \"0,2\"\n",
    "#493.69      -gpu \"2\"\n",
    "#493           --gpu \"1\"\n",
    "# 492             --gpu \"3\""
   ]
  },
  {
   "cell_type": "markdown",
   "metadata": {},
   "source": [
    "# first training - 100 examples 100 epochs 0.8506 accuracy loss - 0.5591930794715881 most predictions were having probability of 0.39...\n",
    "# second training- 1000 examples 1000 epochs "
   ]
  },
  {
   "cell_type": "markdown",
   "metadata": {},
   "source": [
    "# Evaluate the model"
   ]
  },
  {
   "cell_type": "code",
   "execution_count": 47,
   "metadata": {},
   "outputs": [
    {
     "name": "stdout",
     "output_type": "stream",
     "text": [
      "5/5 [==============================] - 2s 318ms/step\n",
      "Dev set accuracy =  0.9458909034729004 0.5650323033332825\n"
     ]
    }
   ],
   "source": [
    "loss, acc = model.evaluate(x_train, y_train)\n",
    "print(\"Dev set accuracy = \", acc,loss)"
   ]
  },
  {
   "cell_type": "markdown",
   "metadata": {},
   "source": [
    "# Making predictions"
   ]
  },
  {
   "cell_type": "code",
   "execution_count": 54,
   "metadata": {},
   "outputs": [],
   "source": [
    "\n",
    "def detect_triggerword(i):\n",
    "    #plt.subplot(2, 1, 1)\n",
    "\n",
    "    #x,y,z = graph_spectrogram(filename)\n",
    "    \n",
    "    #x  = x.swapaxes(0,1)\n",
    "    x=x_train[i]\n",
    "    x = np.expand_dims(x, axis=0)\n",
    "    predictions = model.predict(x)\n",
    "    \n",
    "   # plt.subplot(2, 1, 2)\n",
    "    plt.plot(predictions[0,:,0])\n",
    "    plt.ylabel('probability')\n",
    "    plt.show()\n",
    "    return predictions"
   ]
  },
  {
   "cell_type": "code",
   "execution_count": 47,
   "metadata": {},
   "outputs": [
    {
     "name": "stdout",
     "output_type": "stream",
     "text": [
      "5/5 [==============================] - 2s 318ms/step\n",
      "Dev set accuracy =  0.9458909034729004 0.5650323033332825\n"
     ]
    }
   ],
   "source": [
    "loss, acc = model.evaluate(x_train, y_train)\n",
    "print(\"Dev set accuracy = \", acc,loss)"
   ]
  },
  {
   "cell_type": "code",
   "execution_count": 55,
   "metadata": {},
   "outputs": [
    {
     "data": {
      "image/png": "[encoded data removed]",
      "text/plain": [
       "<Figure size 432x288 with 1 Axes>"
      ]
     },
     "metadata": {},
     "output_type": "display_data"
    },
    {
     "data": {
      "text/plain": [
       "array([[[0.37715948],\n",
       "        [0.37496638],\n",
       "        [0.37381577],\n",
       "        [0.37309074],\n",
       "        [0.37308955],\n",
       "        [0.37268403],\n",
       "        [0.3722142 ],\n",
       "        [0.37216687],\n",
       "        [0.37180614],\n",
       "        [0.37150276],\n",
       "        [0.37188286],\n",
       "        [0.37216026],\n",
       "        [0.3721714 ],\n",
       "        [0.3720047 ],\n",
       "        [0.37224644],\n",
       "        [0.37241593],\n",
       "        [0.37261766],\n",
       "        [0.37304276],\n",
       "        [0.37314445],\n",
       "        [0.37338296],\n",
       "        [0.37384292],\n",
       "        [0.3738704 ],\n",
       "        [0.37384248],\n",
       "        [0.37354356],\n",
       "        [0.3733285 ],\n",
       "        [0.3731954 ],\n",
       "        [0.37287375],\n",
       "        [0.37292385],\n",
       "        [0.3729148 ],\n",
       "        [0.37290034],\n",
       "        [0.372749  ],\n",
       "        [0.3725866 ],\n",
       "        [0.37246832],\n",
       "        [0.37179235],\n",
       "        [0.37195837],\n",
       "        [0.37191042],\n",
       "        [0.3715615 ],\n",
       "        [0.3716448 ],\n",
       "        [0.37177235],\n",
       "        [0.37153864],\n",
       "        [0.37165606],\n",
       "        [0.3713088 ],\n",
       "        [0.3712982 ],\n",
       "        [0.37135386],\n",
       "        [0.37128052],\n",
       "        [0.37130487],\n",
       "        [0.37117267],\n",
       "        [0.37134093],\n",
       "        [0.37144274],\n",
       "        [0.37141573],\n",
       "        [0.37174565],\n",
       "        [0.37186426],\n",
       "        [0.37172836],\n",
       "        [0.37202904],\n",
       "        [0.37246436],\n",
       "        [0.37251097],\n",
       "        [0.37249696],\n",
       "        [0.37239462],\n",
       "        [0.37251186],\n",
       "        [0.372285  ],\n",
       "        [0.3722139 ],\n",
       "        [0.37244532],\n",
       "        [0.3722728 ],\n",
       "        [0.37198478],\n",
       "        [0.3718428 ],\n",
       "        [0.37194476],\n",
       "        [0.3719576 ],\n",
       "        [0.37165707],\n",
       "        [0.37135637],\n",
       "        [0.37129754],\n",
       "        [0.3713895 ],\n",
       "        [0.371966  ],\n",
       "        [0.37233457],\n",
       "        [0.37304172],\n",
       "        [0.37315834],\n",
       "        [0.37315542],\n",
       "        [0.3727408 ],\n",
       "        [0.3724841 ],\n",
       "        [0.37244725],\n",
       "        [0.37244612],\n",
       "        [0.37260294],\n",
       "        [0.3728013 ],\n",
       "        [0.37320453],\n",
       "        [0.37354454],\n",
       "        [0.37305138],\n",
       "        [0.37304354],\n",
       "        [0.37300417],\n",
       "        [0.37284398],\n",
       "        [0.3725161 ],\n",
       "        [0.37246764],\n",
       "        [0.37256312],\n",
       "        [0.3723598 ],\n",
       "        [0.37218404],\n",
       "        [0.37209338],\n",
       "        [0.3726702 ],\n",
       "        [0.37284923],\n",
       "        [0.37252098],\n",
       "        [0.372388  ],\n",
       "        [0.37221652],\n",
       "        [0.37237087],\n",
       "        [0.37229735],\n",
       "        [0.37269217],\n",
       "        [0.37253094],\n",
       "        [0.37233675],\n",
       "        [0.37199482],\n",
       "        [0.3716287 ],\n",
       "        [0.37155223],\n",
       "        [0.37162584],\n",
       "        [0.3718177 ],\n",
       "        [0.37141865],\n",
       "        [0.37126103],\n",
       "        [0.3714087 ],\n",
       "        [0.37175077],\n",
       "        [0.3716647 ],\n",
       "        [0.3719564 ],\n",
       "        [0.37243557],\n",
       "        [0.37239325],\n",
       "        [0.3725646 ],\n",
       "        [0.3728993 ],\n",
       "        [0.3730659 ],\n",
       "        [0.37274778],\n",
       "        [0.37254575],\n",
       "        [0.37259632],\n",
       "        [0.37269104],\n",
       "        [0.37264273],\n",
       "        [0.37235022],\n",
       "        [0.37185827],\n",
       "        [0.3718719 ],\n",
       "        [0.37215304],\n",
       "        [0.37251055],\n",
       "        [0.37312388],\n",
       "        [0.37313163],\n",
       "        [0.37295723],\n",
       "        [0.37229994],\n",
       "        [0.37172785],\n",
       "        [0.3718397 ],\n",
       "        [0.3719554 ],\n",
       "        [0.37195328],\n",
       "        [0.3722043 ],\n",
       "        [0.37220177],\n",
       "        [0.37218127],\n",
       "        [0.37207273],\n",
       "        [0.37230885],\n",
       "        [0.37219   ],\n",
       "        [0.3721406 ],\n",
       "        [0.37186775],\n",
       "        [0.37177917],\n",
       "        [0.3720351 ],\n",
       "        [0.3725537 ],\n",
       "        [0.3726983 ],\n",
       "        [0.37282616],\n",
       "        [0.37286133],\n",
       "        [0.37286833],\n",
       "        [0.37251467],\n",
       "        [0.37214416],\n",
       "        [0.37178388],\n",
       "        [0.37177515],\n",
       "        [0.37157452],\n",
       "        [0.372017  ],\n",
       "        [0.3720582 ],\n",
       "        [0.3715538 ],\n",
       "        [0.37197143],\n",
       "        [0.37235105],\n",
       "        [0.3728641 ],\n",
       "        [0.37374434],\n",
       "        [0.3735    ],\n",
       "        [0.37364963],\n",
       "        [0.37383926],\n",
       "        [0.37406778],\n",
       "        [0.37397462],\n",
       "        [0.37379712],\n",
       "        [0.3732354 ],\n",
       "        [0.37274674],\n",
       "        [0.37217867],\n",
       "        [0.37195408],\n",
       "        [0.37189895],\n",
       "        [0.37164754],\n",
       "        [0.3718705 ],\n",
       "        [0.3724089 ],\n",
       "        [0.3726666 ],\n",
       "        [0.3726082 ],\n",
       "        [0.37268314],\n",
       "        [0.37261978],\n",
       "        [0.37218946],\n",
       "        [0.3720606 ],\n",
       "        [0.37174907],\n",
       "        [0.37115198],\n",
       "        [0.3709416 ],\n",
       "        [0.37098813],\n",
       "        [0.37079084],\n",
       "        [0.37086356],\n",
       "        [0.37096587],\n",
       "        [0.3712684 ],\n",
       "        [0.37143248],\n",
       "        [0.37152624],\n",
       "        [0.37232405],\n",
       "        [0.37295443],\n",
       "        [0.37368512],\n",
       "        [0.37373835],\n",
       "        [0.37417054],\n",
       "        [0.3744844 ],\n",
       "        [0.37427133],\n",
       "        [0.37429452],\n",
       "        [0.37386656],\n",
       "        [0.37321353],\n",
       "        [0.37271857],\n",
       "        [0.372374  ],\n",
       "        [0.37266064],\n",
       "        [0.37302256],\n",
       "        [0.3728975 ],\n",
       "        [0.37301445],\n",
       "        [0.37259585],\n",
       "        [0.3721425 ],\n",
       "        [0.37258852],\n",
       "        [0.37292495],\n",
       "        [0.3730058 ],\n",
       "        [0.37327743],\n",
       "        [0.37358856],\n",
       "        [0.3735496 ],\n",
       "        [0.37366635],\n",
       "        [0.37365544],\n",
       "        [0.3740294 ],\n",
       "        [0.37444293],\n",
       "        [0.37433964],\n",
       "        [0.3741901 ],\n",
       "        [0.37293455],\n",
       "        [0.37231505],\n",
       "        [0.3717639 ],\n",
       "        [0.3712951 ],\n",
       "        [0.37147093],\n",
       "        [0.3722057 ],\n",
       "        [0.37316146],\n",
       "        [0.37339914],\n",
       "        [0.37388185],\n",
       "        [0.37353516],\n",
       "        [0.37275237],\n",
       "        [0.37257752],\n",
       "        [0.37258735],\n",
       "        [0.37295234],\n",
       "        [0.37310475],\n",
       "        [0.373249  ],\n",
       "        [0.37313247],\n",
       "        [0.3728726 ],\n",
       "        [0.37255704],\n",
       "        [0.37233788],\n",
       "        [0.37235662],\n",
       "        [0.3719446 ],\n",
       "        [0.37173995],\n",
       "        [0.37210405],\n",
       "        [0.37247697],\n",
       "        [0.37306294],\n",
       "        [0.37318742],\n",
       "        [0.37282687],\n",
       "        [0.37221214],\n",
       "        [0.3724646 ],\n",
       "        [0.37227544],\n",
       "        [0.37212867],\n",
       "        [0.37184972],\n",
       "        [0.37197486],\n",
       "        [0.37228197],\n",
       "        [0.37215668],\n",
       "        [0.37238193],\n",
       "        [0.37248248],\n",
       "        [0.3722772 ],\n",
       "        [0.3721578 ],\n",
       "        [0.37227163],\n",
       "        [0.3725695 ],\n",
       "        [0.37274325],\n",
       "        [0.37247056],\n",
       "        [0.3722029 ],\n",
       "        [0.37212598],\n",
       "        [0.3719027 ],\n",
       "        [0.37172735],\n",
       "        [0.37184638],\n",
       "        [0.37182665],\n",
       "        [0.37211445],\n",
       "        [0.37203372],\n",
       "        [0.37202367],\n",
       "        [0.37207198],\n",
       "        [0.37196058],\n",
       "        [0.37185347],\n",
       "        [0.37177992],\n",
       "        [0.3715868 ],\n",
       "        [0.37165958],\n",
       "        [0.3717728 ],\n",
       "        [0.37202176],\n",
       "        [0.3723774 ],\n",
       "        [0.3725955 ],\n",
       "        [0.37265444],\n",
       "        [0.3726158 ],\n",
       "        [0.37250543],\n",
       "        [0.37263033],\n",
       "        [0.3727546 ],\n",
       "        [0.37266427],\n",
       "        [0.3727625 ],\n",
       "        [0.37270534],\n",
       "        [0.37248826],\n",
       "        [0.37319368],\n",
       "        [0.37356475],\n",
       "        [0.3737387 ],\n",
       "        [0.37368315],\n",
       "        [0.37339061],\n",
       "        [0.37303722],\n",
       "        [0.3728847 ],\n",
       "        [0.37251264],\n",
       "        [0.37235397],\n",
       "        [0.37262028],\n",
       "        [0.3728205 ],\n",
       "        [0.37319148],\n",
       "        [0.37298292],\n",
       "        [0.37272865],\n",
       "        [0.37273127],\n",
       "        [0.3728835 ],\n",
       "        [0.37278473],\n",
       "        [0.3725308 ],\n",
       "        [0.37206888],\n",
       "        [0.37194902],\n",
       "        [0.37186915],\n",
       "        [0.37131488],\n",
       "        [0.3715647 ],\n",
       "        [0.37185904],\n",
       "        [0.37131375],\n",
       "        [0.3716012 ],\n",
       "        [0.37219545],\n",
       "        [0.37290144],\n",
       "        [0.3727524 ],\n",
       "        [0.37268072],\n",
       "        [0.3724572 ],\n",
       "        [0.3722458 ],\n",
       "        [0.37174463],\n",
       "        [0.37145174],\n",
       "        [0.37184137],\n",
       "        [0.37214765],\n",
       "        [0.37245992],\n",
       "        [0.37253705],\n",
       "        [0.37241918],\n",
       "        [0.3720865 ],\n",
       "        [0.37183732],\n",
       "        [0.37139028],\n",
       "        [0.37147748],\n",
       "        [0.37170976],\n",
       "        [0.37218314],\n",
       "        [0.37228242],\n",
       "        [0.3722598 ],\n",
       "        [0.3719759 ],\n",
       "        [0.37174404],\n",
       "        [0.37180048],\n",
       "        [0.3719489 ],\n",
       "        [0.3716803 ],\n",
       "        [0.3716646 ],\n",
       "        [0.3715365 ],\n",
       "        [0.37148   ],\n",
       "        [0.37161237],\n",
       "        [0.37145022],\n",
       "        [0.37120855],\n",
       "        [0.3711554 ],\n",
       "        [0.37137562],\n",
       "        [0.3714633 ],\n",
       "        [0.37151456],\n",
       "        [0.37158626],\n",
       "        [0.37164232],\n",
       "        [0.37175438],\n",
       "        [0.3719467 ],\n",
       "        [0.37198347],\n",
       "        [0.37227607],\n",
       "        [0.37201908],\n",
       "        [0.3720333 ],\n",
       "        [0.37232867],\n",
       "        [0.37271768],\n",
       "        [0.37294197],\n",
       "        [0.37305412],\n",
       "        [0.37309253],\n",
       "        [0.37285724],\n",
       "        [0.3730125 ],\n",
       "        [0.37344092],\n",
       "        [0.37353605],\n",
       "        [0.37324917],\n",
       "        [0.37325293],\n",
       "        [0.3728943 ],\n",
       "        [0.37251633],\n",
       "        [0.3723793 ],\n",
       "        [0.37196875],\n",
       "        [0.3716517 ],\n",
       "        [0.37159652],\n",
       "        [0.37168565],\n",
       "        [0.37162107],\n",
       "        [0.3718308 ],\n",
       "        [0.37119934],\n",
       "        [0.37118122],\n",
       "        [0.3712806 ],\n",
       "        [0.37154803],\n",
       "        [0.37180194],\n",
       "        [0.37165254],\n",
       "        [0.37188637],\n",
       "        [0.37199488],\n",
       "        [0.37216237],\n",
       "        [0.37234563],\n",
       "        [0.3725595 ],\n",
       "        [0.37253204],\n",
       "        [0.37251192],\n",
       "        [0.3720631 ],\n",
       "        [0.37211397],\n",
       "        [0.372638  ],\n",
       "        [0.37269115],\n",
       "        [0.37262887],\n",
       "        [0.37270278],\n",
       "        [0.3725075 ],\n",
       "        [0.37197727],\n",
       "        [0.37175107],\n",
       "        [0.37168717],\n",
       "        [0.37178415],\n",
       "        [0.37197977],\n",
       "        [0.3722763 ],\n",
       "        [0.37222147],\n",
       "        [0.37162614],\n",
       "        [0.371481  ],\n",
       "        [0.37143862],\n",
       "        [0.37174448],\n",
       "        [0.37221822],\n",
       "        [0.3727719 ],\n",
       "        [0.37283736],\n",
       "        [0.3731112 ],\n",
       "        [0.37289426],\n",
       "        [0.37283248],\n",
       "        [0.37290508],\n",
       "        [0.37303078],\n",
       "        [0.3732129 ],\n",
       "        [0.37326017],\n",
       "        [0.37309065],\n",
       "        [0.3729213 ],\n",
       "        [0.3727635 ],\n",
       "        [0.37239784],\n",
       "        [0.37210444],\n",
       "        [0.37240082],\n",
       "        [0.37303883],\n",
       "        [0.37286118],\n",
       "        [0.37311906],\n",
       "        [0.3733007 ],\n",
       "        [0.37336236],\n",
       "        [0.37321165],\n",
       "        [0.37298435],\n",
       "        [0.37284648],\n",
       "        [0.37268722],\n",
       "        [0.37252346],\n",
       "        [0.37205902],\n",
       "        [0.37178755],\n",
       "        [0.37177235],\n",
       "        [0.3717165 ],\n",
       "        [0.37178755],\n",
       "        [0.37202716],\n",
       "        [0.37219587],\n",
       "        [0.3726083 ],\n",
       "        [0.37301713],\n",
       "        [0.37336585],\n",
       "        [0.3732574 ],\n",
       "        [0.37302735],\n",
       "        [0.37300754],\n",
       "        [0.37341732],\n",
       "        [0.37362894],\n",
       "        [0.37369245],\n",
       "        [0.3731935 ],\n",
       "        [0.3727892 ],\n",
       "        [0.37310296],\n",
       "        [0.37279576],\n",
       "        [0.3727481 ],\n",
       "        [0.37259364],\n",
       "        [0.37268758],\n",
       "        [0.37267816],\n",
       "        [0.37291086],\n",
       "        [0.37331635],\n",
       "        [0.37345147],\n",
       "        [0.3736332 ],\n",
       "        [0.3736928 ],\n",
       "        [0.37356198],\n",
       "        [0.3737545 ],\n",
       "        [0.37389094],\n",
       "        [0.37400347],\n",
       "        [0.373541  ],\n",
       "        [0.3732813 ],\n",
       "        [0.37306952],\n",
       "        [0.37309653],\n",
       "        [0.3727841 ],\n",
       "        [0.37257093],\n",
       "        [0.37243986],\n",
       "        [0.37219843],\n",
       "        [0.3719228 ],\n",
       "        [0.37198022],\n",
       "        [0.37189767],\n",
       "        [0.37177566],\n",
       "        [0.37184763],\n",
       "        [0.3717832 ],\n",
       "        [0.3720817 ],\n",
       "        [0.3721956 ],\n",
       "        [0.37254703],\n",
       "        [0.37287858],\n",
       "        [0.3737831 ],\n",
       "        [0.3742383 ],\n",
       "        [0.37411606],\n",
       "        [0.37409335],\n",
       "        [0.37336412],\n",
       "        [0.3726434 ],\n",
       "        [0.37271124],\n",
       "        [0.37267572],\n",
       "        [0.37263232],\n",
       "        [0.3727297 ],\n",
       "        [0.37276918],\n",
       "        [0.3725791 ],\n",
       "        [0.37227866],\n",
       "        [0.37211442],\n",
       "        [0.37196153],\n",
       "        [0.37205476],\n",
       "        [0.37202215],\n",
       "        [0.37200978],\n",
       "        [0.37201703],\n",
       "        [0.3719435 ],\n",
       "        [0.37175643],\n",
       "        [0.3724989 ],\n",
       "        [0.3726645 ],\n",
       "        [0.37294903],\n",
       "        [0.3729667 ],\n",
       "        [0.3732198 ],\n",
       "        [0.37342882],\n",
       "        [0.37332168],\n",
       "        [0.37339455],\n",
       "        [0.3735655 ],\n",
       "        [0.3734364 ],\n",
       "        [0.37313303],\n",
       "        [0.37288982],\n",
       "        [0.37250358],\n",
       "        [0.37237996],\n",
       "        [0.37241656],\n",
       "        [0.3725262 ],\n",
       "        [0.37223646],\n",
       "        [0.37233007],\n",
       "        [0.3725198 ],\n",
       "        [0.37286478],\n",
       "        [0.37267444],\n",
       "        [0.3727494 ],\n",
       "        [0.37316972],\n",
       "        [0.3729486 ],\n",
       "        [0.37255856],\n",
       "        [0.37223068],\n",
       "        [0.3718289 ],\n",
       "        [0.37156346],\n",
       "        [0.37146434],\n",
       "        [0.3714742 ],\n",
       "        [0.37149692],\n",
       "        [0.37154788],\n",
       "        [0.37209868],\n",
       "        [0.3725161 ],\n",
       "        [0.37315077],\n",
       "        [0.3737117 ],\n",
       "        [0.37368792],\n",
       "        [0.37343848],\n",
       "        [0.3731953 ],\n",
       "        [0.3726686 ],\n",
       "        [0.37239033],\n",
       "        [0.37261617],\n",
       "        [0.3723542 ],\n",
       "        [0.3723942 ],\n",
       "        [0.37238422],\n",
       "        [0.37264276],\n",
       "        [0.37288672],\n",
       "        [0.3731874 ],\n",
       "        [0.37352598],\n",
       "        [0.37336415],\n",
       "        [0.37363952],\n",
       "        [0.37344694],\n",
       "        [0.37318316],\n",
       "        [0.37287217],\n",
       "        [0.37287703],\n",
       "        [0.3727041 ],\n",
       "        [0.3725935 ],\n",
       "        [0.37334388],\n",
       "        [0.37316176],\n",
       "        [0.37311357],\n",
       "        [0.37285239],\n",
       "        [0.37252933],\n",
       "        [0.37267387],\n",
       "        [0.37232304],\n",
       "        [0.37195748],\n",
       "        [0.3718019 ],\n",
       "        [0.3720067 ],\n",
       "        [0.3722458 ],\n",
       "        [0.3724421 ],\n",
       "        [0.37259036],\n",
       "        [0.37247607],\n",
       "        [0.3727097 ],\n",
       "        [0.3723088 ],\n",
       "        [0.37203655],\n",
       "        [0.37233064],\n",
       "        [0.37291783],\n",
       "        [0.3727967 ],\n",
       "        [0.37238994],\n",
       "        [0.3720441 ],\n",
       "        [0.37152505],\n",
       "        [0.3712644 ],\n",
       "        [0.37125617],\n",
       "        [0.37159634],\n",
       "        [0.37155342],\n",
       "        [0.3716687 ],\n",
       "        [0.37163928],\n",
       "        [0.37166232],\n",
       "        [0.3715822 ],\n",
       "        [0.3718645 ],\n",
       "        [0.37209606],\n",
       "        [0.37232894],\n",
       "        [0.37264368],\n",
       "        [0.3726317 ],\n",
       "        [0.3728093 ],\n",
       "        [0.3723746 ],\n",
       "        [0.3721825 ],\n",
       "        [0.37220192],\n",
       "        [0.37207234],\n",
       "        [0.37215555],\n",
       "        [0.37212887],\n",
       "        [0.3722331 ],\n",
       "        [0.37216616],\n",
       "        [0.3720185 ],\n",
       "        [0.3720551 ],\n",
       "        [0.3718642 ],\n",
       "        [0.3714251 ],\n",
       "        [0.3713148 ],\n",
       "        [0.3715784 ],\n",
       "        [0.37186116],\n",
       "        [0.3721366 ],\n",
       "        [0.37211463],\n",
       "        [0.37199807],\n",
       "        [0.37203377],\n",
       "        [0.3720765 ],\n",
       "        [0.37221476],\n",
       "        [0.37249038],\n",
       "        [0.37244883],\n",
       "        [0.37224612],\n",
       "        [0.37200052],\n",
       "        [0.37207192],\n",
       "        [0.37241393],\n",
       "        [0.37318572],\n",
       "        [0.37346888],\n",
       "        [0.37345302],\n",
       "        [0.37320834],\n",
       "        [0.3726651 ],\n",
       "        [0.37258095],\n",
       "        [0.37256575],\n",
       "        [0.37244064],\n",
       "        [0.372333  ],\n",
       "        [0.37196597],\n",
       "        [0.37178016],\n",
       "        [0.37156358],\n",
       "        [0.37162733],\n",
       "        [0.37210807],\n",
       "        [0.372504  ],\n",
       "        [0.37321687],\n",
       "        [0.37332836],\n",
       "        [0.37294826],\n",
       "        [0.3721827 ],\n",
       "        [0.37169427],\n",
       "        [0.37123695],\n",
       "        [0.37151557],\n",
       "        [0.37167078],\n",
       "        [0.37180904],\n",
       "        [0.3719225 ],\n",
       "        [0.37222254],\n",
       "        [0.3723615 ],\n",
       "        [0.37245607],\n",
       "        [0.37243548],\n",
       "        [0.37232995],\n",
       "        [0.3722163 ],\n",
       "        [0.37212008],\n",
       "        [0.372094  ],\n",
       "        [0.37244755],\n",
       "        [0.3725657 ],\n",
       "        [0.37252423],\n",
       "        [0.37256393],\n",
       "        [0.37272796],\n",
       "        [0.37298238],\n",
       "        [0.37333077],\n",
       "        [0.3734008 ],\n",
       "        [0.37329167],\n",
       "        [0.37321895],\n",
       "        [0.37275362],\n",
       "        [0.3730889 ],\n",
       "        [0.37282556],\n",
       "        [0.37298205],\n",
       "        [0.37275347],\n",
       "        [0.37277538],\n",
       "        [0.37252265],\n",
       "        [0.3724085 ],\n",
       "        [0.3725294 ],\n",
       "        [0.37259576],\n",
       "        [0.3725196 ],\n",
       "        [0.37240976],\n",
       "        [0.37231278],\n",
       "        [0.37202334],\n",
       "        [0.37193668],\n",
       "        [0.37206304],\n",
       "        [0.3721286 ],\n",
       "        [0.37208125],\n",
       "        [0.3719639 ],\n",
       "        [0.37222242],\n",
       "        [0.37269306],\n",
       "        [0.37300348],\n",
       "        [0.37315702],\n",
       "        [0.37371168],\n",
       "        [0.37384093],\n",
       "        [0.3736386 ],\n",
       "        [0.37355727],\n",
       "        [0.37343904],\n",
       "        [0.37313688],\n",
       "        [0.3725056 ],\n",
       "        [0.37191844],\n",
       "        [0.37180978],\n",
       "        [0.37168372],\n",
       "        [0.3715486 ],\n",
       "        [0.3720642 ],\n",
       "        [0.37237805],\n",
       "        [0.37273398],\n",
       "        [0.3732207 ],\n",
       "        [0.3733858 ],\n",
       "        [0.37299564],\n",
       "        [0.37264764],\n",
       "        [0.3726794 ],\n",
       "        [0.37237948],\n",
       "        [0.37211165],\n",
       "        [0.37221444],\n",
       "        [0.37229288],\n",
       "        [0.37250012],\n",
       "        [0.37250277],\n",
       "        [0.37239385],\n",
       "        [0.3719867 ],\n",
       "        [0.3715001 ],\n",
       "        [0.3713796 ],\n",
       "        [0.37132162],\n",
       "        [0.3713658 ],\n",
       "        [0.37148398],\n",
       "        [0.37180966],\n",
       "        [0.37206298],\n",
       "        [0.37239057],\n",
       "        [0.37265044],\n",
       "        [0.3727767 ],\n",
       "        [0.37239516],\n",
       "        [0.3721405 ],\n",
       "        [0.37172878],\n",
       "        [0.37183094],\n",
       "        [0.3720172 ],\n",
       "        [0.37214756],\n",
       "        [0.37232006],\n",
       "        [0.37252212],\n",
       "        [0.3728699 ],\n",
       "        [0.37341702],\n",
       "        [0.3734006 ],\n",
       "        [0.37290406],\n",
       "        [0.37233806],\n",
       "        [0.3720674 ],\n",
       "        [0.3721239 ],\n",
       "        [0.37209797],\n",
       "        [0.37222666],\n",
       "        [0.37218314],\n",
       "        [0.37192637],\n",
       "        [0.37170953],\n",
       "        [0.37147027],\n",
       "        [0.37143114],\n",
       "        [0.37174857],\n",
       "        [0.37179214],\n",
       "        [0.37206256],\n",
       "        [0.37231296],\n",
       "        [0.3721094 ],\n",
       "        [0.37222373],\n",
       "        [0.3722108 ],\n",
       "        [0.37195396],\n",
       "        [0.37147984],\n",
       "        [0.3712316 ],\n",
       "        [0.37089044],\n",
       "        [0.37112474],\n",
       "        [0.3711936 ],\n",
       "        [0.37135673],\n",
       "        [0.37169233],\n",
       "        [0.37217236],\n",
       "        [0.3724444 ],\n",
       "        [0.3725356 ],\n",
       "        [0.37237066],\n",
       "        [0.37211925],\n",
       "        [0.37203765],\n",
       "        [0.37179217],\n",
       "        [0.37178352],\n",
       "        [0.37192875],\n",
       "        [0.37189242],\n",
       "        [0.3720147 ],\n",
       "        [0.37260875],\n",
       "        [0.37265304],\n",
       "        [0.37282673],\n",
       "        [0.37300944],\n",
       "        [0.37274912],\n",
       "        [0.37220633],\n",
       "        [0.37226367],\n",
       "        [0.37213695],\n",
       "        [0.37196618],\n",
       "        [0.37220114],\n",
       "        [0.37184632],\n",
       "        [0.37159985],\n",
       "        [0.37143183],\n",
       "        [0.37132865],\n",
       "        [0.37147287],\n",
       "        [0.37209642],\n",
       "        [0.37230587],\n",
       "        [0.37261957],\n",
       "        [0.37259883],\n",
       "        [0.37318024],\n",
       "        [0.3733743 ],\n",
       "        [0.37371075],\n",
       "        [0.37413907],\n",
       "        [0.37389547],\n",
       "        [0.37347656],\n",
       "        [0.37301508],\n",
       "        [0.37294045],\n",
       "        [0.3727594 ],\n",
       "        [0.37313682],\n",
       "        [0.3728029 ],\n",
       "        [0.37268102],\n",
       "        [0.37252155],\n",
       "        [0.37240896],\n",
       "        [0.37197238],\n",
       "        [0.37165445],\n",
       "        [0.37175226],\n",
       "        [0.37178344],\n",
       "        [0.37178355],\n",
       "        [0.37202325],\n",
       "        [0.37217745],\n",
       "        [0.3722443 ],\n",
       "        [0.37244487],\n",
       "        [0.372979  ],\n",
       "        [0.3733218 ],\n",
       "        [0.37328857],\n",
       "        [0.37362468],\n",
       "        [0.37342992],\n",
       "        [0.37293887],\n",
       "        [0.37250364],\n",
       "        [0.37259853],\n",
       "        [0.3725198 ],\n",
       "        [0.37268028],\n",
       "        [0.37281007],\n",
       "        [0.37271568],\n",
       "        [0.3724495 ],\n",
       "        [0.37235278],\n",
       "        [0.3721125 ],\n",
       "        [0.3717989 ],\n",
       "        [0.37183326],\n",
       "        [0.37189835],\n",
       "        [0.37200734],\n",
       "        [0.37193   ],\n",
       "        [0.37215906],\n",
       "        [0.37217823],\n",
       "        [0.37221646],\n",
       "        [0.3724397 ],\n",
       "        [0.37266052],\n",
       "        [0.37244362],\n",
       "        [0.3720476 ],\n",
       "        [0.37245065],\n",
       "        [0.37270248],\n",
       "        [0.3726576 ],\n",
       "        [0.37240705],\n",
       "        [0.37219223],\n",
       "        [0.3722188 ],\n",
       "        [0.37236822],\n",
       "        [0.3725958 ],\n",
       "        [0.37253195],\n",
       "        [0.37264502],\n",
       "        [0.37267527],\n",
       "        [0.37268388],\n",
       "        [0.37257546],\n",
       "        [0.3727336 ],\n",
       "        [0.37278473],\n",
       "        [0.37260354],\n",
       "        [0.37278453],\n",
       "        [0.37284702],\n",
       "        [0.37274104],\n",
       "        [0.3731826 ],\n",
       "        [0.37346485],\n",
       "        [0.37329954],\n",
       "        [0.37282676],\n",
       "        [0.37235218],\n",
       "        [0.37187618],\n",
       "        [0.37245852],\n",
       "        [0.37287354],\n",
       "        [0.37292844],\n",
       "        [0.37297627],\n",
       "        [0.37271905],\n",
       "        [0.37243432],\n",
       "        [0.37218463],\n",
       "        [0.37196052],\n",
       "        [0.37168995],\n",
       "        [0.37154967],\n",
       "        [0.37171236],\n",
       "        [0.37206054],\n",
       "        [0.37228808],\n",
       "        [0.3721962 ],\n",
       "        [0.37234855],\n",
       "        [0.37228343],\n",
       "        [0.37240106],\n",
       "        [0.3722509 ],\n",
       "        [0.37198865],\n",
       "        [0.37183845],\n",
       "        [0.3723545 ],\n",
       "        [0.37227535],\n",
       "        [0.37222934],\n",
       "        [0.37202567],\n",
       "        [0.37196904],\n",
       "        [0.37213475],\n",
       "        [0.37196591],\n",
       "        [0.371988  ],\n",
       "        [0.37195212],\n",
       "        [0.37195453],\n",
       "        [0.37263286],\n",
       "        [0.37279695],\n",
       "        [0.3728276 ],\n",
       "        [0.37263793],\n",
       "        [0.37241155],\n",
       "        [0.37211213],\n",
       "        [0.3721915 ],\n",
       "        [0.37223828],\n",
       "        [0.372392  ],\n",
       "        [0.37259352],\n",
       "        [0.37241507],\n",
       "        [0.37219796],\n",
       "        [0.37203664],\n",
       "        [0.37207168],\n",
       "        [0.3722598 ],\n",
       "        [0.37234262],\n",
       "        [0.37238085],\n",
       "        [0.37239856],\n",
       "        [0.3725598 ],\n",
       "        [0.37244117],\n",
       "        [0.3725335 ],\n",
       "        [0.37238806],\n",
       "        [0.37216455],\n",
       "        [0.37187225],\n",
       "        [0.3717361 ],\n",
       "        [0.3717845 ],\n",
       "        [0.3716281 ],\n",
       "        [0.37183636],\n",
       "        [0.3721822 ],\n",
       "        [0.37222773],\n",
       "        [0.37221482],\n",
       "        [0.37244102],\n",
       "        [0.372591  ],\n",
       "        [0.37241983],\n",
       "        [0.37267065],\n",
       "        [0.3725797 ],\n",
       "        [0.37232345],\n",
       "        [0.3724572 ],\n",
       "        [0.37277722],\n",
       "        [0.37268722],\n",
       "        [0.37291908],\n",
       "        [0.3724621 ],\n",
       "        [0.37273657],\n",
       "        [0.37273175],\n",
       "        [0.3725602 ],\n",
       "        [0.37256366],\n",
       "        [0.3727464 ],\n",
       "        [0.3724742 ],\n",
       "        [0.3721525 ],\n",
       "        [0.37255648],\n",
       "        [0.37279713],\n",
       "        [0.37320858],\n",
       "        [0.37384647],\n",
       "        [0.37378377],\n",
       "        [0.3739308 ],\n",
       "        [0.37390578],\n",
       "        [0.3738097 ],\n",
       "        [0.37340146],\n",
       "        [0.37281555],\n",
       "        [0.3725801 ],\n",
       "        [0.37213933],\n",
       "        [0.37210408],\n",
       "        [0.37257528],\n",
       "        [0.37254906],\n",
       "        [0.3726896 ],\n",
       "        [0.37313217],\n",
       "        [0.37297836],\n",
       "        [0.37275672],\n",
       "        [0.37260222],\n",
       "        [0.37217116],\n",
       "        [0.3720674 ],\n",
       "        [0.37218916],\n",
       "        [0.3724255 ],\n",
       "        [0.3724237 ],\n",
       "        [0.37249303],\n",
       "        [0.37243208],\n",
       "        [0.37214732],\n",
       "        [0.3724847 ],\n",
       "        [0.372657  ],\n",
       "        [0.37261558],\n",
       "        [0.37191617],\n",
       "        [0.37175044],\n",
       "        [0.37182325],\n",
       "        [0.37201315],\n",
       "        [0.37215644],\n",
       "        [0.37197798],\n",
       "        [0.37214202],\n",
       "        [0.37232143],\n",
       "        [0.3721952 ],\n",
       "        [0.37201816],\n",
       "        [0.37222937],\n",
       "        [0.37243396],\n",
       "        [0.3725986 ],\n",
       "        [0.37365466],\n",
       "        [0.37523362],\n",
       "        [0.3436113 ],\n",
       "        [0.3810365 ],\n",
       "        [0.40355608],\n",
       "        [0.4132586 ],\n",
       "        [0.45018864],\n",
       "        [0.39998302],\n",
       "        [0.32366082],\n",
       "        [0.3481208 ],\n",
       "        [0.34543628],\n",
       "        [0.34076643],\n",
       "        [0.35188645],\n",
       "        [0.35074943],\n",
       "        [0.34777302],\n",
       "        [0.34736568],\n",
       "        [0.35143882],\n",
       "        [0.35434505],\n",
       "        [0.3562796 ],\n",
       "        [0.36035725],\n",
       "        [0.36485013],\n",
       "        [0.3675356 ],\n",
       "        [0.36962557],\n",
       "        [0.3760097 ],\n",
       "        [0.3772235 ],\n",
       "        [0.37565446],\n",
       "        [0.37406915],\n",
       "        [0.37201226],\n",
       "        [0.3730924 ],\n",
       "        [0.37325427],\n",
       "        [0.37716097],\n",
       "        [0.3794196 ],\n",
       "        [0.37962925],\n",
       "        [0.37875026],\n",
       "        [0.37724274],\n",
       "        [0.3762464 ],\n",
       "        [0.37552863],\n",
       "        [0.37426037],\n",
       "        [0.3740855 ],\n",
       "        [0.37408417],\n",
       "        [0.37414464],\n",
       "        [0.3736374 ],\n",
       "        [0.37366062],\n",
       "        [0.37333062],\n",
       "        [0.3735265 ],\n",
       "        [0.37380725],\n",
       "        [0.37389788],\n",
       "        [0.37400776],\n",
       "        [0.373991  ],\n",
       "        [0.37364393],\n",
       "        [0.37317592],\n",
       "        [0.3733666 ],\n",
       "        [0.3739209 ],\n",
       "        [0.37404877],\n",
       "        [0.3739751 ],\n",
       "        [0.37362957],\n",
       "        [0.3733517 ],\n",
       "        [0.37302685],\n",
       "        [0.3729229 ],\n",
       "        [0.37263978],\n",
       "        [0.37249374],\n",
       "        [0.3722711 ],\n",
       "        [0.37196097],\n",
       "        [0.37172496],\n",
       "        [0.37190968],\n",
       "        [0.37208444],\n",
       "        [0.37217736],\n",
       "        [0.37206262],\n",
       "        [0.37221274],\n",
       "        [0.37204164],\n",
       "        [0.37196016],\n",
       "        [0.3717211 ],\n",
       "        [0.37158197],\n",
       "        [0.37165242],\n",
       "        [0.3715974 ],\n",
       "        [0.37161335],\n",
       "        [0.37210482],\n",
       "        [0.37239265],\n",
       "        [0.37275368],\n",
       "        [0.37302482],\n",
       "        [0.37311447],\n",
       "        [0.37285793],\n",
       "        [0.3725785 ],\n",
       "        [0.3723123 ],\n",
       "        [0.37189382],\n",
       "        [0.37200555],\n",
       "        [0.37221146],\n",
       "        [0.37214085],\n",
       "        [0.3721581 ],\n",
       "        [0.37255955],\n",
       "        [0.37313095],\n",
       "        [0.3735535 ],\n",
       "        [0.37356663],\n",
       "        [0.3739592 ],\n",
       "        [0.37411386],\n",
       "        [0.3736878 ],\n",
       "        [0.3734245 ],\n",
       "        [0.37289256],\n",
       "        [0.37239712],\n",
       "        [0.3720922 ],\n",
       "        [0.37228027],\n",
       "        [0.3729058 ],\n",
       "        [0.37337458],\n",
       "        [0.37367934],\n",
       "        [0.3738583 ],\n",
       "        [0.37355614],\n",
       "        [0.37334478],\n",
       "        [0.37305188],\n",
       "        [0.37331164],\n",
       "        [0.3734465 ],\n",
       "        [0.3727976 ],\n",
       "        [0.37257624],\n",
       "        [0.37297398],\n",
       "        [0.3730556 ],\n",
       "        [0.37339574],\n",
       "        [0.37324142],\n",
       "        [0.3731916 ],\n",
       "        [0.37329412],\n",
       "        [0.37268448],\n",
       "        [0.37215686],\n",
       "        [0.3719711 ],\n",
       "        [0.3718447 ],\n",
       "        [0.3723005 ],\n",
       "        [0.37231055],\n",
       "        [0.37230387],\n",
       "        [0.37230712],\n",
       "        [0.37260172],\n",
       "        [0.37243092],\n",
       "        [0.3723855 ],\n",
       "        [0.3726738 ],\n",
       "        [0.37313986],\n",
       "        [0.37305745],\n",
       "        [0.37273487],\n",
       "        [0.37261498],\n",
       "        [0.3725199 ],\n",
       "        [0.3723901 ],\n",
       "        [0.37201622],\n",
       "        [0.3717594 ],\n",
       "        [0.37195852],\n",
       "        [0.3726635 ],\n",
       "        [0.37385315],\n",
       "        [0.37466845],\n",
       "        [0.37482983],\n",
       "        [0.37530124],\n",
       "        [0.37504065],\n",
       "        [0.37499332],\n",
       "        [0.3743054 ],\n",
       "        [0.3735174 ],\n",
       "        [0.37265456],\n",
       "        [0.37208784],\n",
       "        [0.3717301 ],\n",
       "        [0.37200427],\n",
       "        [0.37204766],\n",
       "        [0.37273383],\n",
       "        [0.37256616],\n",
       "        [0.3728511 ],\n",
       "        [0.37300888],\n",
       "        [0.3728894 ],\n",
       "        [0.37260875],\n",
       "        [0.37237704],\n",
       "        [0.37214813],\n",
       "        [0.37193573],\n",
       "        [0.3721941 ],\n",
       "        [0.37249252],\n",
       "        [0.37275678],\n",
       "        [0.37314945],\n",
       "        [0.3729784 ],\n",
       "        [0.37284058],\n",
       "        [0.37250918],\n",
       "        [0.3725385 ],\n",
       "        [0.37264895],\n",
       "        [0.3726698 ],\n",
       "        [0.37241423],\n",
       "        [0.37225622],\n",
       "        [0.37243727],\n",
       "        [0.3723076 ],\n",
       "        [0.37211102],\n",
       "        [0.37190923],\n",
       "        [0.37171298],\n",
       "        [0.37167156],\n",
       "        [0.37169746],\n",
       "        [0.371436  ],\n",
       "        [0.3715877 ],\n",
       "        [0.37150794],\n",
       "        [0.37133324],\n",
       "        [0.37140322],\n",
       "        [0.37128732],\n",
       "        [0.3712918 ],\n",
       "        [0.3716617 ],\n",
       "        [0.3721379 ],\n",
       "        [0.37256676],\n",
       "        [0.37306365],\n",
       "        [0.37308156],\n",
       "        [0.37279478],\n",
       "        [0.37245882],\n",
       "        [0.37235337],\n",
       "        [0.37281913],\n",
       "        [0.3734995 ],\n",
       "        [0.37364912],\n",
       "        [0.3741678 ],\n",
       "        [0.3740176 ],\n",
       "        [0.37354946],\n",
       "        [0.373034  ],\n",
       "        [0.37257427],\n",
       "        [0.37200725],\n",
       "        [0.37170547],\n",
       "        [0.3721385 ],\n",
       "        [0.37236446],\n",
       "        [0.3730302 ],\n",
       "        [0.37328237],\n",
       "        [0.37358683],\n",
       "        [0.37336326],\n",
       "        [0.37322384],\n",
       "        [0.37316385],\n",
       "        [0.37352598],\n",
       "        [0.37367782],\n",
       "        [0.3735497 ],\n",
       "        [0.37355664],\n",
       "        [0.3732673 ],\n",
       "        [0.37273413],\n",
       "        [0.372262  ],\n",
       "        [0.37176597],\n",
       "        [0.3716439 ],\n",
       "        [0.37140197],\n",
       "        [0.37185934],\n",
       "        [0.3722977 ],\n",
       "        [0.37254536],\n",
       "        [0.37258562],\n",
       "        [0.3726161 ],\n",
       "        [0.37293535],\n",
       "        [0.37288076],\n",
       "        [0.37288737],\n",
       "        [0.37295055],\n",
       "        [0.3728848 ],\n",
       "        [0.3724138 ],\n",
       "        [0.37231588],\n",
       "        [0.37208998],\n",
       "        [0.37205005],\n",
       "        [0.37221026],\n",
       "        [0.37284362],\n",
       "        [0.37279215],\n",
       "        [0.3725835 ],\n",
       "        [0.37252933],\n",
       "        [0.37235838],\n",
       "        [0.37215254],\n",
       "        [0.3725857 ],\n",
       "        [0.37268025],\n",
       "        [0.37244815],\n",
       "        [0.3721726 ],\n",
       "        [0.3722376 ],\n",
       "        [0.37226608],\n",
       "        [0.37229398],\n",
       "        [0.3720631 ],\n",
       "        [0.3718946 ],\n",
       "        [0.37203038],\n",
       "        [0.37222546],\n",
       "        [0.37213603],\n",
       "        [0.37215504],\n",
       "        [0.37204972],\n",
       "        [0.3722164 ],\n",
       "        [0.37241793],\n",
       "        [0.3726104 ],\n",
       "        [0.37256795],\n",
       "        [0.37267202],\n",
       "        [0.37264982],\n",
       "        [0.37306547],\n",
       "        [0.37280956],\n",
       "        [0.37273717],\n",
       "        [0.3725795 ],\n",
       "        [0.37243998],\n",
       "        [0.3722813 ],\n",
       "        [0.3723763 ],\n",
       "        [0.37252605],\n",
       "        [0.37239128],\n",
       "        [0.37205684],\n",
       "        [0.37190694],\n",
       "        [0.3716755 ],\n",
       "        [0.37158102],\n",
       "        [0.37141186],\n",
       "        [0.37144893],\n",
       "        [0.37183598],\n",
       "        [0.3718344 ],\n",
       "        [0.3718652 ],\n",
       "        [0.3718428 ],\n",
       "        [0.3720376 ],\n",
       "        [0.37226057],\n",
       "        [0.37210304],\n",
       "        [0.37229332],\n",
       "        [0.37224868],\n",
       "        [0.3725678 ],\n",
       "        [0.3726037 ],\n",
       "        [0.37238306],\n",
       "        [0.37208942],\n",
       "        [0.3717005 ],\n",
       "        [0.3719336 ],\n",
       "        [0.37212524],\n",
       "        [0.37207186],\n",
       "        [0.37244886],\n",
       "        [0.37289917],\n",
       "        [0.3726692 ],\n",
       "        [0.37265933],\n",
       "        [0.37266928],\n",
       "        [0.3728403 ],\n",
       "        [0.37289792],\n",
       "        [0.3729778 ],\n",
       "        [0.37281066],\n",
       "        [0.3720029 ],\n",
       "        [0.37199882],\n",
       "        [0.37212554],\n",
       "        [0.37220788],\n",
       "        [0.37227696],\n",
       "        [0.37265038],\n",
       "        [0.37275043],\n",
       "        [0.37274465],\n",
       "        [0.37281984],\n",
       "        [0.37255824],\n",
       "        [0.37239528],\n",
       "        [0.37196296],\n",
       "        [0.3715809 ],\n",
       "        [0.37154394],\n",
       "        [0.37160426],\n",
       "        [0.37186646],\n",
       "        [0.3722607 ],\n",
       "        [0.37257126],\n",
       "        [0.37264782],\n",
       "        [0.37247542],\n",
       "        [0.37220722],\n",
       "        [0.37260437],\n",
       "        [0.37275237],\n",
       "        [0.3726273 ],\n",
       "        [0.37286645],\n",
       "        [0.37287477],\n",
       "        [0.37309146],\n",
       "        [0.37300265],\n",
       "        [0.37257966],\n",
       "        [0.37214205],\n",
       "        [0.3716321 ],\n",
       "        [0.37184495],\n",
       "        [0.3719955 ],\n",
       "        [0.37248886],\n",
       "        [0.3728041 ],\n",
       "        [0.37294447],\n",
       "        [0.37357184],\n",
       "        [0.3734498 ],\n",
       "        [0.37360042],\n",
       "        [0.37369984],\n",
       "        [0.37359545],\n",
       "        [0.3738241 ],\n",
       "        [0.37374973],\n",
       "        [0.37362272],\n",
       "        [0.3732709 ],\n",
       "        [0.3729772 ],\n",
       "        [0.37294924],\n",
       "        [0.37300318],\n",
       "        [0.3728146 ],\n",
       "        [0.37302336],\n",
       "        [0.37301368],\n",
       "        [0.3729784 ],\n",
       "        [0.37319523],\n",
       "        [0.3728996 ],\n",
       "        [0.37272164],\n",
       "        [0.37256646],\n",
       "        [0.37225395],\n",
       "        [0.37201834],\n",
       "        [0.37229654],\n",
       "        [0.3723653 ],\n",
       "        [0.3728865 ],\n",
       "        [0.37321928],\n",
       "        [0.37353897],\n",
       "        [0.37347195]]], dtype=float32)"
      ]
     },
     "execution_count": 55,
     "metadata": {},
     "output_type": "execute_result"
    }
   ],
   "source": [
    "detect_triggerword(4)"
   ]
  },
  {
   "cell_type": "code",
   "execution_count": 51,
   "metadata": {},
   "outputs": [
    {
     "ename": "NameError",
     "evalue": "name 'x' is not defined",
     "output_type": "error",
     "traceback": [
      "\u001b[0;31m---------------------------------------------------------------------------\u001b[0m",
      "\u001b[0;31mNameError\u001b[0m                                 Traceback (most recent call last)",
      "\u001b[0;32m<ipython-input-51-3b1d9ac5bbe7>\u001b[0m in \u001b[0;36m<module>\u001b[0;34m()\u001b[0m\n\u001b[0;32m----> 1\u001b[0;31m \u001b[0mprint\u001b[0m \u001b[0;34m(\u001b[0m\u001b[0mx\u001b[0m\u001b[0;34m.\u001b[0m\u001b[0mshape\u001b[0m\u001b[0;34m,\u001b[0m\u001b[0my\u001b[0m\u001b[0;34m.\u001b[0m\u001b[0mshape\u001b[0m\u001b[0;34m,\u001b[0m\u001b[0mz\u001b[0m\u001b[0;34m.\u001b[0m\u001b[0mshape\u001b[0m\u001b[0;34m)\u001b[0m\u001b[0;34m\u001b[0m\u001b[0m\n\u001b[0m",
      "\u001b[0;31mNameError\u001b[0m: name 'x' is not defined"
     ]
    }
   ],
   "source": [
    "print (x.shape,y.shape,z.shape)"
   ]
  },
  {
   "cell_type": "code",
   "execution_count": 57,
   "metadata": {},
   "outputs": [],
   "source": [
    "model.save(\"smu.HDf5\")"
   ]
  },
  {
   "cell_type": "code",
   "execution_count": null,
   "metadata": {},
   "outputs": [],
   "source": []
  },
  {
   "cell_type": "code",
   "execution_count": null,
   "metadata": {},
   "outputs": [],
   "source": []
  }
 ],
 "metadata": {
  "kernelspec": {
   "display_name": "Python 3",
   "language": "python",
   "name": "python3"
  },
  "language_info": {
   "codemirror_mode": {
    "name": "ipython",
    "version": 3
   },
   "file_extension": ".py",
   "mimetype": "text/x-python",
   "name": "python",
   "nbconvert_exporter": "python",
   "pygments_lexer": "ipython3",
   "version": "3.7.3"
  }
 },
 "nbformat": 4,
 "nbformat_minor": 2
}
